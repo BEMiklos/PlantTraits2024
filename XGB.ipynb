{
  "nbformat": 4,
  "nbformat_minor": 0,
  "metadata": {
    "colab": {
      "provenance": [],
      "gpuType": "T4",
      "include_colab_link": true
    },
    "kernelspec": {
      "name": "python3",
      "display_name": "Python 3"
    },
    "language_info": {
      "name": "python"
    },
    "accelerator": "GPU"
  },
  "cells": [
    {
      "cell_type": "markdown",
      "metadata": {
        "id": "view-in-github",
        "colab_type": "text"
      },
      "source": [
        "<a href=\"https://colab.research.google.com/github/BEMiklos/PlantTraits2024/blob/main/XGB.ipynb\" target=\"_parent\"><img src=\"https://colab.research.google.com/assets/colab-badge.svg\" alt=\"Open In Colab\"/></a>"
      ]
    },
    {
      "cell_type": "code",
      "source": [
        "!pip install -q kaggle"
      ],
      "metadata": {
        "id": "SRGG17Ke5my0"
      },
      "execution_count": 1,
      "outputs": []
    },
    {
      "cell_type": "code",
      "source": [
        "!mkdir ~/.kaggle\n",
        "!cp kaggle.json ~/.kaggle/\n",
        "!chmod 600 ~/.kaggle/kaggle.json"
      ],
      "metadata": {
        "id": "M2Beep-e5xpg",
        "colab": {
          "base_uri": "https://localhost:8080/"
        },
        "outputId": "3b73f1ad-1a48-4df4-f4a9-934235d59ca8"
      },
      "execution_count": 4,
      "outputs": [
        {
          "output_type": "stream",
          "name": "stdout",
          "text": [
            "mkdir: cannot create directory ‘/root/.kaggle’: File exists\n"
          ]
        }
      ]
    },
    {
      "cell_type": "code",
      "source": [
        "!kaggle competitions download -c planttraits2024"
      ],
      "metadata": {
        "colab": {
          "base_uri": "https://localhost:8080/"
        },
        "id": "bZeIJboZ53xn",
        "outputId": "7ea89acc-e77a-4514-e1ee-6db3b1db5982"
      },
      "execution_count": 5,
      "outputs": [
        {
          "output_type": "stream",
          "name": "stdout",
          "text": [
            "Downloading planttraits2024.zip to /content\n",
            " 99% 3.15G/3.17G [00:27<00:00, 301MB/s]\n",
            "100% 3.17G/3.17G [00:27<00:00, 126MB/s]\n"
          ]
        }
      ]
    },
    {
      "cell_type": "code",
      "source": [
        "!unzip -q '/content/planttraits2024.zip'"
      ],
      "metadata": {
        "id": "ROMo7gdT555j"
      },
      "execution_count": 6,
      "outputs": []
    },
    {
      "cell_type": "code",
      "source": [
        "import random\n",
        "\n",
        "import pandas as pd\n",
        "import numpy as np\n",
        "import matplotlib.pyplot as plt\n",
        "\n",
        "import albumentations as A\n",
        "import cv2\n",
        "\n",
        "import torch\n",
        "from torch import nn\n",
        "import torch.nn.functional as F\n",
        "from torchvision.io import read_image\n",
        "from torch.utils.data import Dataset, ConcatDataset, DataLoader, Subset, random_split\n",
        "from torchvision import transforms\n",
        "\n",
        "from sklearn.model_selection import train_test_split\n",
        "from sklearn.impute import SimpleImputer\n",
        "from sklearn.preprocessing import StandardScaler\n",
        "from sklearn.decomposition import PCA\n",
        "from sklearn.multioutput import MultiOutputRegressor\n",
        "from sklearn.metrics import r2_score\n",
        "from sklearn.preprocessing import PolynomialFeatures\n",
        "\n",
        "import xgboost as xgb\n",
        "\n",
        "import re"
      ],
      "metadata": {
        "id": "TA52mgTA57u_"
      },
      "execution_count": 67,
      "outputs": []
    },
    {
      "cell_type": "code",
      "source": [
        "device = torch.device(\"cuda\") if torch.cuda.is_available() else torch.device(\"cpu\")\n",
        "random_state = 7\n",
        "\n",
        "np.random.seed(0)\n",
        "\n",
        "random.seed(0)\n",
        "\n",
        "torch.manual_seed(0)\n",
        "torch.cuda.manual_seed(0)\n",
        "torch.backends.cudnn.deterministic = True\n",
        "torch.backends.cudnn.benchmark = False"
      ],
      "metadata": {
        "id": "n8LwA-vU597l"
      },
      "execution_count": 2,
      "outputs": []
    },
    {
      "cell_type": "code",
      "source": [
        "TRAIN_IMAGES_PATH = '/content/train_images'\n",
        "TEST_IMAGES_PATH = '/content/test_images'"
      ],
      "metadata": {
        "id": "GxKSFqY96AVq"
      },
      "execution_count": 3,
      "outputs": []
    },
    {
      "cell_type": "markdown",
      "metadata": {
        "id": "Dn2tARx1xXIq"
      },
      "source": [
        "### Untility functions"
      ]
    },
    {
      "cell_type": "code",
      "execution_count": 4,
      "metadata": {
        "id": "_E9lNk9oxs8L"
      },
      "outputs": [],
      "source": [
        "mean_pattern = r'X\\d+_mean'\n",
        "sd_pattern = r'X\\d+_sd'"
      ]
    },
    {
      "cell_type": "code",
      "execution_count": 5,
      "metadata": {
        "id": "wJf2ppxZxZ5Q"
      },
      "outputs": [],
      "source": [
        "def find_matching_elements(lst,pattern):\n",
        "    matching_elements = [element for element in lst if re.search(pattern, element)]\n",
        "    return matching_elements"
      ]
    },
    {
      "cell_type": "code",
      "execution_count": 6,
      "metadata": {
        "id": "NXsJpfSCpdGk"
      },
      "outputs": [],
      "source": [
        "train_df = pd.read_csv('train.csv')\n",
        "test_df = pd.read_csv('test.csv')"
      ]
    },
    {
      "cell_type": "code",
      "execution_count": 7,
      "metadata": {
        "colab": {
          "base_uri": "https://localhost:8080/",
          "height": 408
        },
        "id": "K7Cuyd43sGkx",
        "outputId": "8f77365c-752e-454c-8936-a98bff6bd16d"
      },
      "outputs": [
        {
          "output_type": "execute_result",
          "data": {
            "text/plain": [
              "              id  WORLDCLIM_BIO1_annual_mean_temperature  \\\n",
              "24886  184873835                               -1.032917   \n",
              "31965  190494649                                0.440794   \n",
              "28421  195642066                               17.284445   \n",
              "12674  164426751                               12.075297   \n",
              "31158  186882920                               17.013542   \n",
              "45443  195637432                               -0.526925   \n",
              "19727  194871319                               20.958969   \n",
              "20600  186386731                               18.402203   \n",
              "24052  164361896                               17.402231   \n",
              "35949  195065314                               11.712444   \n",
              "\n",
              "       WORLDCLIM_BIO12_annual_precipitation  \\\n",
              "24886                            574.295227   \n",
              "31965                            589.538086   \n",
              "28421                            341.909515   \n",
              "12674                            166.142853   \n",
              "31158                           1030.795898   \n",
              "45443                            317.861908   \n",
              "19727                           2068.119141   \n",
              "20600                            563.590454   \n",
              "24052                            870.571411   \n",
              "35949                            437.182220   \n",
              "\n",
              "       WORLDCLIM_BIO13.BIO14_delta_precipitation_of_wettest_and_dryest_month  \\\n",
              "24886                                          90.252380                       \n",
              "31965                                          48.000000                       \n",
              "28421                                          65.457146                       \n",
              "12674                                          24.500000                       \n",
              "31158                                         266.556122                       \n",
              "45443                                          87.438095                       \n",
              "19727                                         264.828583                       \n",
              "20600                                          81.157143                       \n",
              "24052                                          82.178574                       \n",
              "35949                                          34.533333                       \n",
              "\n",
              "       WORLDCLIM_BIO15_precipitation_seasonality  \\\n",
              "24886                                  62.482738   \n",
              "31965                                  33.024284   \n",
              "28421                                  89.490135   \n",
              "12674                                  49.969826   \n",
              "31158                                  91.027039   \n",
              "45443                                 113.449104   \n",
              "19727                                  53.143101   \n",
              "20600                                  64.466095   \n",
              "24052                                  35.694508   \n",
              "35949                                  28.756390   \n",
              "\n",
              "       WORLDCLIM_BIO4_temperature_seasonality  \\\n",
              "24886                             1227.480225   \n",
              "31965                             1090.136475   \n",
              "28421                              544.396545   \n",
              "12674                              902.658264   \n",
              "31158                              177.292847   \n",
              "45443                             1096.622192   \n",
              "19727                              488.990204   \n",
              "20600                              437.827026   \n",
              "24052                              825.165405   \n",
              "35949                              632.724487   \n",
              "\n",
              "       WORLDCLIM_BIO7_temperature_annual_range  SOIL_bdod_0.5cm_mean_0.01_deg  \\\n",
              "24886                                42.762859                             87   \n",
              "31965                                39.804287                             54   \n",
              "28421                                31.776667                            138   \n",
              "12674                                38.064285                            129   \n",
              "31158                                14.822959                            107   \n",
              "45443                                40.898571                            108   \n",
              "19727                                19.647144                            115   \n",
              "20600                                24.329046                            121   \n",
              "24052                                35.850002                            148   \n",
              "35949                                29.993334                            127   \n",
              "\n",
              "       SOIL_bdod_100.200cm_mean_0.01_deg  SOIL_bdod_15.30cm_mean_0.01_deg  \\\n",
              "24886                                144                              125   \n",
              "31965                                149                              118   \n",
              "28421                                163                              151   \n",
              "12674                                148                              141   \n",
              "31158                                117                              112   \n",
              "45443                                146                              128   \n",
              "19727                                144                              128   \n",
              "20600                                136                              131   \n",
              "24052                                174                              162   \n",
              "35949                                155                              137   \n",
              "\n",
              "       ...  X18_mean  X26_mean  X50_mean   X3112_mean     X4_sd    X11_sd  \\\n",
              "24886  ...  0.174163  0.645791  0.433834   615.749773       NaN       NaN   \n",
              "31965  ...  0.554565  1.121493  1.130741   725.767936  0.002047  0.909884   \n",
              "28421  ...  0.439074  0.601914  1.030841   304.821680  0.003821  0.326769   \n",
              "12674  ...  0.199941  3.176854  2.202036   509.618373       NaN       NaN   \n",
              "31158  ...  0.231805  0.051018  1.190324    89.976644  0.005543  0.221099   \n",
              "45443  ...  0.359241  1.062527  1.332752  3322.765956       NaN       NaN   \n",
              "19727  ...  0.232182  0.041521  2.149017   669.891966       NaN       NaN   \n",
              "20600  ...  0.230897  0.500619  0.942541   608.056653       NaN       NaN   \n",
              "24052  ...  0.283748  0.163265  1.672265    62.625917       NaN       NaN   \n",
              "35949  ...  0.009491  0.147462  1.895993     9.095304  0.005892  0.749986   \n",
              "\n",
              "         X18_sd    X26_sd    X50_sd   X3112_sd  \n",
              "24886       NaN       NaN       NaN        NaN  \n",
              "31965  0.073212  0.059998  0.042375  30.941051  \n",
              "28421  0.027901  0.153138  0.013564  16.485387  \n",
              "12674       NaN       NaN       NaN        NaN  \n",
              "31158  0.025756  0.024287  0.015604   5.421096  \n",
              "45443       NaN       NaN       NaN        NaN  \n",
              "19727       NaN       NaN       NaN        NaN  \n",
              "20600       NaN       NaN       NaN        NaN  \n",
              "24052       NaN       NaN       NaN        NaN  \n",
              "35949  0.000848  0.008639  0.137162   1.257774  \n",
              "\n",
              "[10 rows x 176 columns]"
            ],
            "text/html": [
              "\n",
              "  <div id=\"df-68e259be-ec02-4949-8fd2-87396ed26100\" class=\"colab-df-container\">\n",
              "    <div>\n",
              "<style scoped>\n",
              "    .dataframe tbody tr th:only-of-type {\n",
              "        vertical-align: middle;\n",
              "    }\n",
              "\n",
              "    .dataframe tbody tr th {\n",
              "        vertical-align: top;\n",
              "    }\n",
              "\n",
              "    .dataframe thead th {\n",
              "        text-align: right;\n",
              "    }\n",
              "</style>\n",
              "<table border=\"1\" class=\"dataframe\">\n",
              "  <thead>\n",
              "    <tr style=\"text-align: right;\">\n",
              "      <th></th>\n",
              "      <th>id</th>\n",
              "      <th>WORLDCLIM_BIO1_annual_mean_temperature</th>\n",
              "      <th>WORLDCLIM_BIO12_annual_precipitation</th>\n",
              "      <th>WORLDCLIM_BIO13.BIO14_delta_precipitation_of_wettest_and_dryest_month</th>\n",
              "      <th>WORLDCLIM_BIO15_precipitation_seasonality</th>\n",
              "      <th>WORLDCLIM_BIO4_temperature_seasonality</th>\n",
              "      <th>WORLDCLIM_BIO7_temperature_annual_range</th>\n",
              "      <th>SOIL_bdod_0.5cm_mean_0.01_deg</th>\n",
              "      <th>SOIL_bdod_100.200cm_mean_0.01_deg</th>\n",
              "      <th>SOIL_bdod_15.30cm_mean_0.01_deg</th>\n",
              "      <th>...</th>\n",
              "      <th>X18_mean</th>\n",
              "      <th>X26_mean</th>\n",
              "      <th>X50_mean</th>\n",
              "      <th>X3112_mean</th>\n",
              "      <th>X4_sd</th>\n",
              "      <th>X11_sd</th>\n",
              "      <th>X18_sd</th>\n",
              "      <th>X26_sd</th>\n",
              "      <th>X50_sd</th>\n",
              "      <th>X3112_sd</th>\n",
              "    </tr>\n",
              "  </thead>\n",
              "  <tbody>\n",
              "    <tr>\n",
              "      <th>24886</th>\n",
              "      <td>184873835</td>\n",
              "      <td>-1.032917</td>\n",
              "      <td>574.295227</td>\n",
              "      <td>90.252380</td>\n",
              "      <td>62.482738</td>\n",
              "      <td>1227.480225</td>\n",
              "      <td>42.762859</td>\n",
              "      <td>87</td>\n",
              "      <td>144</td>\n",
              "      <td>125</td>\n",
              "      <td>...</td>\n",
              "      <td>0.174163</td>\n",
              "      <td>0.645791</td>\n",
              "      <td>0.433834</td>\n",
              "      <td>615.749773</td>\n",
              "      <td>NaN</td>\n",
              "      <td>NaN</td>\n",
              "      <td>NaN</td>\n",
              "      <td>NaN</td>\n",
              "      <td>NaN</td>\n",
              "      <td>NaN</td>\n",
              "    </tr>\n",
              "    <tr>\n",
              "      <th>31965</th>\n",
              "      <td>190494649</td>\n",
              "      <td>0.440794</td>\n",
              "      <td>589.538086</td>\n",
              "      <td>48.000000</td>\n",
              "      <td>33.024284</td>\n",
              "      <td>1090.136475</td>\n",
              "      <td>39.804287</td>\n",
              "      <td>54</td>\n",
              "      <td>149</td>\n",
              "      <td>118</td>\n",
              "      <td>...</td>\n",
              "      <td>0.554565</td>\n",
              "      <td>1.121493</td>\n",
              "      <td>1.130741</td>\n",
              "      <td>725.767936</td>\n",
              "      <td>0.002047</td>\n",
              "      <td>0.909884</td>\n",
              "      <td>0.073212</td>\n",
              "      <td>0.059998</td>\n",
              "      <td>0.042375</td>\n",
              "      <td>30.941051</td>\n",
              "    </tr>\n",
              "    <tr>\n",
              "      <th>28421</th>\n",
              "      <td>195642066</td>\n",
              "      <td>17.284445</td>\n",
              "      <td>341.909515</td>\n",
              "      <td>65.457146</td>\n",
              "      <td>89.490135</td>\n",
              "      <td>544.396545</td>\n",
              "      <td>31.776667</td>\n",
              "      <td>138</td>\n",
              "      <td>163</td>\n",
              "      <td>151</td>\n",
              "      <td>...</td>\n",
              "      <td>0.439074</td>\n",
              "      <td>0.601914</td>\n",
              "      <td>1.030841</td>\n",
              "      <td>304.821680</td>\n",
              "      <td>0.003821</td>\n",
              "      <td>0.326769</td>\n",
              "      <td>0.027901</td>\n",
              "      <td>0.153138</td>\n",
              "      <td>0.013564</td>\n",
              "      <td>16.485387</td>\n",
              "    </tr>\n",
              "    <tr>\n",
              "      <th>12674</th>\n",
              "      <td>164426751</td>\n",
              "      <td>12.075297</td>\n",
              "      <td>166.142853</td>\n",
              "      <td>24.500000</td>\n",
              "      <td>49.969826</td>\n",
              "      <td>902.658264</td>\n",
              "      <td>38.064285</td>\n",
              "      <td>129</td>\n",
              "      <td>148</td>\n",
              "      <td>141</td>\n",
              "      <td>...</td>\n",
              "      <td>0.199941</td>\n",
              "      <td>3.176854</td>\n",
              "      <td>2.202036</td>\n",
              "      <td>509.618373</td>\n",
              "      <td>NaN</td>\n",
              "      <td>NaN</td>\n",
              "      <td>NaN</td>\n",
              "      <td>NaN</td>\n",
              "      <td>NaN</td>\n",
              "      <td>NaN</td>\n",
              "    </tr>\n",
              "    <tr>\n",
              "      <th>31158</th>\n",
              "      <td>186882920</td>\n",
              "      <td>17.013542</td>\n",
              "      <td>1030.795898</td>\n",
              "      <td>266.556122</td>\n",
              "      <td>91.027039</td>\n",
              "      <td>177.292847</td>\n",
              "      <td>14.822959</td>\n",
              "      <td>107</td>\n",
              "      <td>117</td>\n",
              "      <td>112</td>\n",
              "      <td>...</td>\n",
              "      <td>0.231805</td>\n",
              "      <td>0.051018</td>\n",
              "      <td>1.190324</td>\n",
              "      <td>89.976644</td>\n",
              "      <td>0.005543</td>\n",
              "      <td>0.221099</td>\n",
              "      <td>0.025756</td>\n",
              "      <td>0.024287</td>\n",
              "      <td>0.015604</td>\n",
              "      <td>5.421096</td>\n",
              "    </tr>\n",
              "    <tr>\n",
              "      <th>45443</th>\n",
              "      <td>195637432</td>\n",
              "      <td>-0.526925</td>\n",
              "      <td>317.861908</td>\n",
              "      <td>87.438095</td>\n",
              "      <td>113.449104</td>\n",
              "      <td>1096.622192</td>\n",
              "      <td>40.898571</td>\n",
              "      <td>108</td>\n",
              "      <td>146</td>\n",
              "      <td>128</td>\n",
              "      <td>...</td>\n",
              "      <td>0.359241</td>\n",
              "      <td>1.062527</td>\n",
              "      <td>1.332752</td>\n",
              "      <td>3322.765956</td>\n",
              "      <td>NaN</td>\n",
              "      <td>NaN</td>\n",
              "      <td>NaN</td>\n",
              "      <td>NaN</td>\n",
              "      <td>NaN</td>\n",
              "      <td>NaN</td>\n",
              "    </tr>\n",
              "    <tr>\n",
              "      <th>19727</th>\n",
              "      <td>194871319</td>\n",
              "      <td>20.958969</td>\n",
              "      <td>2068.119141</td>\n",
              "      <td>264.828583</td>\n",
              "      <td>53.143101</td>\n",
              "      <td>488.990204</td>\n",
              "      <td>19.647144</td>\n",
              "      <td>115</td>\n",
              "      <td>144</td>\n",
              "      <td>128</td>\n",
              "      <td>...</td>\n",
              "      <td>0.232182</td>\n",
              "      <td>0.041521</td>\n",
              "      <td>2.149017</td>\n",
              "      <td>669.891966</td>\n",
              "      <td>NaN</td>\n",
              "      <td>NaN</td>\n",
              "      <td>NaN</td>\n",
              "      <td>NaN</td>\n",
              "      <td>NaN</td>\n",
              "      <td>NaN</td>\n",
              "    </tr>\n",
              "    <tr>\n",
              "      <th>20600</th>\n",
              "      <td>186386731</td>\n",
              "      <td>18.402203</td>\n",
              "      <td>563.590454</td>\n",
              "      <td>81.157143</td>\n",
              "      <td>64.466095</td>\n",
              "      <td>437.827026</td>\n",
              "      <td>24.329046</td>\n",
              "      <td>121</td>\n",
              "      <td>136</td>\n",
              "      <td>131</td>\n",
              "      <td>...</td>\n",
              "      <td>0.230897</td>\n",
              "      <td>0.500619</td>\n",
              "      <td>0.942541</td>\n",
              "      <td>608.056653</td>\n",
              "      <td>NaN</td>\n",
              "      <td>NaN</td>\n",
              "      <td>NaN</td>\n",
              "      <td>NaN</td>\n",
              "      <td>NaN</td>\n",
              "      <td>NaN</td>\n",
              "    </tr>\n",
              "    <tr>\n",
              "      <th>24052</th>\n",
              "      <td>164361896</td>\n",
              "      <td>17.402231</td>\n",
              "      <td>870.571411</td>\n",
              "      <td>82.178574</td>\n",
              "      <td>35.694508</td>\n",
              "      <td>825.165405</td>\n",
              "      <td>35.850002</td>\n",
              "      <td>148</td>\n",
              "      <td>174</td>\n",
              "      <td>162</td>\n",
              "      <td>...</td>\n",
              "      <td>0.283748</td>\n",
              "      <td>0.163265</td>\n",
              "      <td>1.672265</td>\n",
              "      <td>62.625917</td>\n",
              "      <td>NaN</td>\n",
              "      <td>NaN</td>\n",
              "      <td>NaN</td>\n",
              "      <td>NaN</td>\n",
              "      <td>NaN</td>\n",
              "      <td>NaN</td>\n",
              "    </tr>\n",
              "    <tr>\n",
              "      <th>35949</th>\n",
              "      <td>195065314</td>\n",
              "      <td>11.712444</td>\n",
              "      <td>437.182220</td>\n",
              "      <td>34.533333</td>\n",
              "      <td>28.756390</td>\n",
              "      <td>632.724487</td>\n",
              "      <td>29.993334</td>\n",
              "      <td>127</td>\n",
              "      <td>155</td>\n",
              "      <td>137</td>\n",
              "      <td>...</td>\n",
              "      <td>0.009491</td>\n",
              "      <td>0.147462</td>\n",
              "      <td>1.895993</td>\n",
              "      <td>9.095304</td>\n",
              "      <td>0.005892</td>\n",
              "      <td>0.749986</td>\n",
              "      <td>0.000848</td>\n",
              "      <td>0.008639</td>\n",
              "      <td>0.137162</td>\n",
              "      <td>1.257774</td>\n",
              "    </tr>\n",
              "  </tbody>\n",
              "</table>\n",
              "<p>10 rows × 176 columns</p>\n",
              "</div>\n",
              "    <div class=\"colab-df-buttons\">\n",
              "\n",
              "  <div class=\"colab-df-container\">\n",
              "    <button class=\"colab-df-convert\" onclick=\"convertToInteractive('df-68e259be-ec02-4949-8fd2-87396ed26100')\"\n",
              "            title=\"Convert this dataframe to an interactive table.\"\n",
              "            style=\"display:none;\">\n",
              "\n",
              "  <svg xmlns=\"http://www.w3.org/2000/svg\" height=\"24px\" viewBox=\"0 -960 960 960\">\n",
              "    <path d=\"M120-120v-720h720v720H120Zm60-500h600v-160H180v160Zm220 220h160v-160H400v160Zm0 220h160v-160H400v160ZM180-400h160v-160H180v160Zm440 0h160v-160H620v160ZM180-180h160v-160H180v160Zm440 0h160v-160H620v160Z\"/>\n",
              "  </svg>\n",
              "    </button>\n",
              "\n",
              "  <style>\n",
              "    .colab-df-container {\n",
              "      display:flex;\n",
              "      gap: 12px;\n",
              "    }\n",
              "\n",
              "    .colab-df-convert {\n",
              "      background-color: #E8F0FE;\n",
              "      border: none;\n",
              "      border-radius: 50%;\n",
              "      cursor: pointer;\n",
              "      display: none;\n",
              "      fill: #1967D2;\n",
              "      height: 32px;\n",
              "      padding: 0 0 0 0;\n",
              "      width: 32px;\n",
              "    }\n",
              "\n",
              "    .colab-df-convert:hover {\n",
              "      background-color: #E2EBFA;\n",
              "      box-shadow: 0px 1px 2px rgba(60, 64, 67, 0.3), 0px 1px 3px 1px rgba(60, 64, 67, 0.15);\n",
              "      fill: #174EA6;\n",
              "    }\n",
              "\n",
              "    .colab-df-buttons div {\n",
              "      margin-bottom: 4px;\n",
              "    }\n",
              "\n",
              "    [theme=dark] .colab-df-convert {\n",
              "      background-color: #3B4455;\n",
              "      fill: #D2E3FC;\n",
              "    }\n",
              "\n",
              "    [theme=dark] .colab-df-convert:hover {\n",
              "      background-color: #434B5C;\n",
              "      box-shadow: 0px 1px 3px 1px rgba(0, 0, 0, 0.15);\n",
              "      filter: drop-shadow(0px 1px 2px rgba(0, 0, 0, 0.3));\n",
              "      fill: #FFFFFF;\n",
              "    }\n",
              "  </style>\n",
              "\n",
              "    <script>\n",
              "      const buttonEl =\n",
              "        document.querySelector('#df-68e259be-ec02-4949-8fd2-87396ed26100 button.colab-df-convert');\n",
              "      buttonEl.style.display =\n",
              "        google.colab.kernel.accessAllowed ? 'block' : 'none';\n",
              "\n",
              "      async function convertToInteractive(key) {\n",
              "        const element = document.querySelector('#df-68e259be-ec02-4949-8fd2-87396ed26100');\n",
              "        const dataTable =\n",
              "          await google.colab.kernel.invokeFunction('convertToInteractive',\n",
              "                                                    [key], {});\n",
              "        if (!dataTable) return;\n",
              "\n",
              "        const docLinkHtml = 'Like what you see? Visit the ' +\n",
              "          '<a target=\"_blank\" href=https://colab.research.google.com/notebooks/data_table.ipynb>data table notebook</a>'\n",
              "          + ' to learn more about interactive tables.';\n",
              "        element.innerHTML = '';\n",
              "        dataTable['output_type'] = 'display_data';\n",
              "        await google.colab.output.renderOutput(dataTable, element);\n",
              "        const docLink = document.createElement('div');\n",
              "        docLink.innerHTML = docLinkHtml;\n",
              "        element.appendChild(docLink);\n",
              "      }\n",
              "    </script>\n",
              "  </div>\n",
              "\n",
              "\n",
              "<div id=\"df-893beea5-56a3-41c2-a846-ebe67cf7268f\">\n",
              "  <button class=\"colab-df-quickchart\" onclick=\"quickchart('df-893beea5-56a3-41c2-a846-ebe67cf7268f')\"\n",
              "            title=\"Suggest charts\"\n",
              "            style=\"display:none;\">\n",
              "\n",
              "<svg xmlns=\"http://www.w3.org/2000/svg\" height=\"24px\"viewBox=\"0 0 24 24\"\n",
              "     width=\"24px\">\n",
              "    <g>\n",
              "        <path d=\"M19 3H5c-1.1 0-2 .9-2 2v14c0 1.1.9 2 2 2h14c1.1 0 2-.9 2-2V5c0-1.1-.9-2-2-2zM9 17H7v-7h2v7zm4 0h-2V7h2v10zm4 0h-2v-4h2v4z\"/>\n",
              "    </g>\n",
              "</svg>\n",
              "  </button>\n",
              "\n",
              "<style>\n",
              "  .colab-df-quickchart {\n",
              "      --bg-color: #E8F0FE;\n",
              "      --fill-color: #1967D2;\n",
              "      --hover-bg-color: #E2EBFA;\n",
              "      --hover-fill-color: #174EA6;\n",
              "      --disabled-fill-color: #AAA;\n",
              "      --disabled-bg-color: #DDD;\n",
              "  }\n",
              "\n",
              "  [theme=dark] .colab-df-quickchart {\n",
              "      --bg-color: #3B4455;\n",
              "      --fill-color: #D2E3FC;\n",
              "      --hover-bg-color: #434B5C;\n",
              "      --hover-fill-color: #FFFFFF;\n",
              "      --disabled-bg-color: #3B4455;\n",
              "      --disabled-fill-color: #666;\n",
              "  }\n",
              "\n",
              "  .colab-df-quickchart {\n",
              "    background-color: var(--bg-color);\n",
              "    border: none;\n",
              "    border-radius: 50%;\n",
              "    cursor: pointer;\n",
              "    display: none;\n",
              "    fill: var(--fill-color);\n",
              "    height: 32px;\n",
              "    padding: 0;\n",
              "    width: 32px;\n",
              "  }\n",
              "\n",
              "  .colab-df-quickchart:hover {\n",
              "    background-color: var(--hover-bg-color);\n",
              "    box-shadow: 0 1px 2px rgba(60, 64, 67, 0.3), 0 1px 3px 1px rgba(60, 64, 67, 0.15);\n",
              "    fill: var(--button-hover-fill-color);\n",
              "  }\n",
              "\n",
              "  .colab-df-quickchart-complete:disabled,\n",
              "  .colab-df-quickchart-complete:disabled:hover {\n",
              "    background-color: var(--disabled-bg-color);\n",
              "    fill: var(--disabled-fill-color);\n",
              "    box-shadow: none;\n",
              "  }\n",
              "\n",
              "  .colab-df-spinner {\n",
              "    border: 2px solid var(--fill-color);\n",
              "    border-color: transparent;\n",
              "    border-bottom-color: var(--fill-color);\n",
              "    animation:\n",
              "      spin 1s steps(1) infinite;\n",
              "  }\n",
              "\n",
              "  @keyframes spin {\n",
              "    0% {\n",
              "      border-color: transparent;\n",
              "      border-bottom-color: var(--fill-color);\n",
              "      border-left-color: var(--fill-color);\n",
              "    }\n",
              "    20% {\n",
              "      border-color: transparent;\n",
              "      border-left-color: var(--fill-color);\n",
              "      border-top-color: var(--fill-color);\n",
              "    }\n",
              "    30% {\n",
              "      border-color: transparent;\n",
              "      border-left-color: var(--fill-color);\n",
              "      border-top-color: var(--fill-color);\n",
              "      border-right-color: var(--fill-color);\n",
              "    }\n",
              "    40% {\n",
              "      border-color: transparent;\n",
              "      border-right-color: var(--fill-color);\n",
              "      border-top-color: var(--fill-color);\n",
              "    }\n",
              "    60% {\n",
              "      border-color: transparent;\n",
              "      border-right-color: var(--fill-color);\n",
              "    }\n",
              "    80% {\n",
              "      border-color: transparent;\n",
              "      border-right-color: var(--fill-color);\n",
              "      border-bottom-color: var(--fill-color);\n",
              "    }\n",
              "    90% {\n",
              "      border-color: transparent;\n",
              "      border-bottom-color: var(--fill-color);\n",
              "    }\n",
              "  }\n",
              "</style>\n",
              "\n",
              "  <script>\n",
              "    async function quickchart(key) {\n",
              "      const quickchartButtonEl =\n",
              "        document.querySelector('#' + key + ' button');\n",
              "      quickchartButtonEl.disabled = true;  // To prevent multiple clicks.\n",
              "      quickchartButtonEl.classList.add('colab-df-spinner');\n",
              "      try {\n",
              "        const charts = await google.colab.kernel.invokeFunction(\n",
              "            'suggestCharts', [key], {});\n",
              "      } catch (error) {\n",
              "        console.error('Error during call to suggestCharts:', error);\n",
              "      }\n",
              "      quickchartButtonEl.classList.remove('colab-df-spinner');\n",
              "      quickchartButtonEl.classList.add('colab-df-quickchart-complete');\n",
              "    }\n",
              "    (() => {\n",
              "      let quickchartButtonEl =\n",
              "        document.querySelector('#df-893beea5-56a3-41c2-a846-ebe67cf7268f button');\n",
              "      quickchartButtonEl.style.display =\n",
              "        google.colab.kernel.accessAllowed ? 'block' : 'none';\n",
              "    })();\n",
              "  </script>\n",
              "</div>\n",
              "    </div>\n",
              "  </div>\n"
            ],
            "application/vnd.google.colaboratory.intrinsic+json": {
              "type": "dataframe"
            }
          },
          "metadata": {},
          "execution_count": 7
        }
      ],
      "source": [
        "train_df.sample(10)"
      ]
    },
    {
      "cell_type": "code",
      "execution_count": 8,
      "metadata": {
        "colab": {
          "base_uri": "https://localhost:8080/"
        },
        "id": "9qvcinIBvdXL",
        "outputId": "560c0ab5-af8f-4600-fcce-a50322b1e4ef"
      },
      "outputs": [
        {
          "output_type": "execute_result",
          "data": {
            "text/plain": [
              "(176, 164)"
            ]
          },
          "metadata": {},
          "execution_count": 8
        }
      ],
      "source": [
        "len(train_df.columns), len(test_df.columns)"
      ]
    },
    {
      "cell_type": "code",
      "execution_count": 9,
      "metadata": {
        "colab": {
          "base_uri": "https://localhost:8080/"
        },
        "id": "8Xi43XqN7L_I",
        "outputId": "263b1e7c-f9fd-40d7-a67c-f44ef0bd6f6b"
      },
      "outputs": [
        {
          "output_type": "execute_result",
          "data": {
            "text/plain": [
              "(55489, 6545)"
            ]
          },
          "metadata": {},
          "execution_count": 9
        }
      ],
      "source": [
        "len(train_df), len(test_df)"
      ]
    },
    {
      "cell_type": "code",
      "execution_count": 10,
      "metadata": {
        "id": "Uh51IgDxzBYy"
      },
      "outputs": [],
      "source": [
        "targets = [col for col in train_df.columns if col not in test_df.columns]\n",
        "targets = targets[:6]"
      ]
    },
    {
      "cell_type": "code",
      "execution_count": 11,
      "metadata": {
        "id": "8Uz32c5R1S8F"
      },
      "outputs": [],
      "source": [
        "metadata_columns = [col for col in train_df.columns if col in test_df.columns and col != 'id']"
      ]
    },
    {
      "cell_type": "markdown",
      "metadata": {
        "id": "dM9t0Et44O-X"
      },
      "source": [
        " TODO: hiányzó értékek kezelésének pontosítása"
      ]
    },
    {
      "cell_type": "code",
      "execution_count": 12,
      "metadata": {
        "colab": {
          "base_uri": "https://localhost:8080/"
        },
        "id": "aKe7BX1u3lwc",
        "outputId": "59f544c0-fde4-4a14-9ff7-35af7d6544c8"
      },
      "outputs": [
        {
          "output_type": "stream",
          "name": "stdout",
          "text": [
            "Missing values in Train DataFrame:\n",
            "id                                                                           0\n",
            "WORLDCLIM_BIO1_annual_mean_temperature                                       0\n",
            "WORLDCLIM_BIO12_annual_precipitation                                         0\n",
            "WORLDCLIM_BIO13.BIO14_delta_precipitation_of_wettest_and_dryest_month        0\n",
            "WORLDCLIM_BIO15_precipitation_seasonality                                    0\n",
            "                                                                         ...  \n",
            "X11_sd                                                                   16341\n",
            "X18_sd                                                                   16341\n",
            "X26_sd                                                                   16341\n",
            "X50_sd                                                                   16341\n",
            "X3112_sd                                                                 16341\n",
            "Length: 176, dtype: int64\n"
          ]
        }
      ],
      "source": [
        "# Check for missing values in the train DataFrame\n",
        "train_missing_values = train_df.isnull().sum()\n",
        "print(\"Missing values in Train DataFrame:\")\n",
        "print(train_missing_values)"
      ]
    },
    {
      "cell_type": "code",
      "execution_count": 13,
      "metadata": {
        "id": "CvgRJTv834yJ"
      },
      "outputs": [],
      "source": [
        "train_df.fillna(train_df.mean(), inplace=True)"
      ]
    },
    {
      "cell_type": "code",
      "source": [
        "columns_to_log = ['X11_mean', 'X18_mean', 'X26_mean', 'X50_mean', 'X3112_mean',\n",
        "                  'X4_sd', 'X11_sd', 'X18_sd', 'X26_sd', 'X50_sd', 'X3112_sd']\n",
        "\n",
        "# Apply log10 transformation to the specified columns\n",
        "for column in columns_to_log:\n",
        "    train_df[column] = np.log10(train_df[column] + 1)  # Adding 1 to avoid log(0)\n"
      ],
      "metadata": {
        "id": "4ome-TWq6Fr6"
      },
      "execution_count": 14,
      "outputs": []
    },
    {
      "cell_type": "code",
      "source": [
        "def split_dataframe(train_df, test_df, train_size=0.8, val_size=0.2):\n",
        "    if train_size + val_size != 1:\n",
        "        raise ValueError(\"train_size, val_size, and test_size must sum to 1\")\n",
        "\n",
        "    train_df, val_df = train_test_split(train_df, train_size=train_size, random_state=random_state)\n",
        "    return train_df, val_df, test_df"
      ],
      "metadata": {
        "id": "lTKBrCcp6TtJ"
      },
      "execution_count": 15,
      "outputs": []
    },
    {
      "cell_type": "code",
      "source": [
        "def r2_loss(output, target):\n",
        "    target = target\n",
        "    output = output\n",
        "    target_mean = torch.mean(target)\n",
        "    ss_tot = torch.sum((target - target_mean) ** 2)\n",
        "    ss_res = torch.sum((target - output) ** 2)\n",
        "    r2 = 1 - ss_res / ss_tot\n",
        "    return 1 - r2"
      ],
      "metadata": {
        "id": "gu1XuL-96p9d"
      },
      "execution_count": 16,
      "outputs": []
    },
    {
      "cell_type": "code",
      "source": [
        "!pip -q install torchmetrics"
      ],
      "metadata": {
        "id": "I0fgTHUb-pKv",
        "colab": {
          "base_uri": "https://localhost:8080/"
        },
        "outputId": "6278dc1f-adc8-431f-c741-2038a4759d1e"
      },
      "execution_count": 24,
      "outputs": [
        {
          "output_type": "stream",
          "name": "stdout",
          "text": [
            "\u001b[?25l     \u001b[90m━━━━━━━━━━━━━━━━━━━━━━━━━━━━━━━━━━━━━━━━\u001b[0m \u001b[32m0.0/841.5 kB\u001b[0m \u001b[31m?\u001b[0m eta \u001b[36m-:--:--\u001b[0m\r\u001b[2K     \u001b[91m━\u001b[0m\u001b[90m╺\u001b[0m\u001b[90m━━━━━━━━━━━━━━━━━━━━━━━━━━━━━━━━━━━━━━\u001b[0m \u001b[32m30.7/841.5 kB\u001b[0m \u001b[31m1.2 MB/s\u001b[0m eta \u001b[36m0:00:01\u001b[0m\r\u001b[2K     \u001b[91m━━━━━\u001b[0m\u001b[90m╺\u001b[0m\u001b[90m━━━━━━━━━━━━━━━━━━━━━━━━━━━━━━━━━━\u001b[0m \u001b[32m112.6/841.5 kB\u001b[0m \u001b[31m1.6 MB/s\u001b[0m eta \u001b[36m0:00:01\u001b[0m\r\u001b[2K     \u001b[91m━━━━━━━━━━━━━\u001b[0m\u001b[91m╸\u001b[0m\u001b[90m━━━━━━━━━━━━━━━━━━━━━━━━━━\u001b[0m \u001b[32m286.7/841.5 kB\u001b[0m \u001b[31m2.7 MB/s\u001b[0m eta \u001b[36m0:00:01\u001b[0m\r\u001b[2K     \u001b[91m━━━━━━━━━━━━━━━━━━━━━━━━━━━━━━━\u001b[0m\u001b[90m╺\u001b[0m\u001b[90m━━━━━━━━\u001b[0m \u001b[32m655.4/841.5 kB\u001b[0m \u001b[31m4.6 MB/s\u001b[0m eta \u001b[36m0:00:01\u001b[0m\r\u001b[2K     \u001b[90m━━━━━━━━━━━━━━━━━━━━━━━━━━━━━━━━━━━━━━━━\u001b[0m \u001b[32m841.5/841.5 kB\u001b[0m \u001b[31m4.9 MB/s\u001b[0m eta \u001b[36m0:00:00\u001b[0m\n",
            "\u001b[?25h"
          ]
        }
      ]
    },
    {
      "cell_type": "code",
      "source": [
        "from torchmetrics.regression import R2Score"
      ],
      "metadata": {
        "id": "aZgxpz7I6rcW"
      },
      "execution_count": 32,
      "outputs": []
    },
    {
      "cell_type": "markdown",
      "metadata": {
        "id": "cEaURYpRVNes"
      },
      "source": [
        "# Data preparation"
      ]
    },
    {
      "cell_type": "code",
      "execution_count": 19,
      "metadata": {
        "id": "-b0wb-eqfPxQ"
      },
      "outputs": [],
      "source": [
        "bemeno_valtozok = metadata_columns"
      ]
    },
    {
      "cell_type": "code",
      "execution_count": 20,
      "metadata": {
        "colab": {
          "base_uri": "https://localhost:8080/"
        },
        "id": "eg5sOv-rVNSx",
        "outputId": "db2a8947-3969-46c5-9e20-a54a24b43fbb"
      },
      "outputs": [
        {
          "output_type": "stream",
          "name": "stdout",
          "text": [
            "Targets: ['X4_mean', 'X11_mean', 'X18_mean', 'X26_mean', 'X50_mean', 'X3112_mean']\n"
          ]
        }
      ],
      "source": [
        "celvaltozok = targets[:6]\n",
        "print(\"Targets:\",celvaltozok)"
      ]
    },
    {
      "cell_type": "code",
      "execution_count": 21,
      "metadata": {
        "id": "KJiPe4uijnP5"
      },
      "outputs": [],
      "source": [
        "train_df, val_df, test_df = split_dataframe(train_df.sample(frac=1, random_state=1), test_df.sample(frac=1, random_state=1))"
      ]
    },
    {
      "cell_type": "code",
      "execution_count": 22,
      "metadata": {
        "colab": {
          "base_uri": "https://localhost:8080/",
          "height": 439
        },
        "id": "6Jt6v3o4eR0V",
        "outputId": "87b9d9c9-40a5-4d75-c823-220c95235e77"
      },
      "outputs": [
        {
          "output_type": "execute_result",
          "data": {
            "text/plain": [
              "              id  WORLDCLIM_BIO1_annual_mean_temperature  \\\n",
              "24239  171376117                               15.120000   \n",
              "26870  196019212                               13.562074   \n",
              "40848  173458431                               26.131250   \n",
              "51793  176675400                                2.116071   \n",
              "21466   74535495                               21.885370   \n",
              "...          ...                                     ...   \n",
              "25516  188291299                               12.671389   \n",
              "47484  141070257                               19.723888   \n",
              "20133  195683798                               10.255437   \n",
              "39678  194874328                               19.927977   \n",
              "21538  170649825                               15.096488   \n",
              "\n",
              "       WORLDCLIM_BIO12_annual_precipitation  \\\n",
              "24239                           1123.524414   \n",
              "26870                           1100.364502   \n",
              "40848                           3183.500000   \n",
              "51793                            887.904785   \n",
              "21466                            331.084442   \n",
              "...                                     ...   \n",
              "25516                            816.938110   \n",
              "47484                            114.900002   \n",
              "20133                           1059.966675   \n",
              "39678                           3078.928467   \n",
              "21538                           1196.038086   \n",
              "\n",
              "       WORLDCLIM_BIO13.BIO14_delta_precipitation_of_wettest_and_dryest_month  \\\n",
              "24239                                         179.373337                       \n",
              "26870                                         180.542221                       \n",
              "40848                                         528.928589                       \n",
              "51793                                         151.476196                       \n",
              "21466                                          64.617775                       \n",
              "...                                                  ...                       \n",
              "25516                                         141.033340                       \n",
              "47484                                          34.566666                       \n",
              "20133                                          45.538094                       \n",
              "39678                                         269.892853                       \n",
              "21538                                         191.138092                       \n",
              "\n",
              "       WORLDCLIM_BIO15_precipitation_seasonality  \\\n",
              "24239                                  75.942123   \n",
              "26870                                  73.934456   \n",
              "40848                                  65.707703   \n",
              "51793                                  68.991066   \n",
              "21466                                  90.718796   \n",
              "...                                          ...   \n",
              "25516                                  72.865730   \n",
              "47484                                 114.762772   \n",
              "20133                                  16.683119   \n",
              "39678                                  38.449482   \n",
              "21538                                  75.633522   \n",
              "\n",
              "       WORLDCLIM_BIO4_temperature_seasonality  \\\n",
              "24239                              307.151367   \n",
              "26870                              289.352539   \n",
              "40848                               76.344696   \n",
              "51793                               99.114906   \n",
              "21466                              418.202576   \n",
              "...                                       ...   \n",
              "25516                              190.145630   \n",
              "47484                              240.889420   \n",
              "20133                              899.692749   \n",
              "39678                              467.681274   \n",
              "21538                              275.434082   \n",
              "\n",
              "       WORLDCLIM_BIO7_temperature_annual_range  SOIL_bdod_0.5cm_mean_0.01_deg  \\\n",
              "24239                                19.777777                            117   \n",
              "26870                                19.765333                            120   \n",
              "40848                                12.764285                             95   \n",
              "51793                                16.292856                            112   \n",
              "21466                                25.793777                            153   \n",
              "...                                        ...                            ...   \n",
              "25516                                20.977144                            114   \n",
              "47484                                20.880001                            140   \n",
              "20133                                36.213810                            138   \n",
              "39678                                18.314285                            109   \n",
              "21538                                17.333809                            108   \n",
              "\n",
              "       SOIL_bdod_100.200cm_mean_0.01_deg  SOIL_bdod_15.30cm_mean_0.01_deg  \\\n",
              "24239                                132                              124   \n",
              "26870                                129                              122   \n",
              "40848                                 99                               98   \n",
              "51793                                126                              120   \n",
              "21466                                153                              153   \n",
              "...                                  ...                              ...   \n",
              "25516                                125                              124   \n",
              "47484                                143                              141   \n",
              "20133                                166                              151   \n",
              "39678                                135                              117   \n",
              "21538                                125                              116   \n",
              "\n",
              "       ...  X18_mean  X26_mean  X50_mean  X3112_mean     X4_sd    X11_sd  \\\n",
              "24239  ...  0.150808  0.460390  0.365825    3.030315  0.003389  0.316719   \n",
              "26870  ...  0.110277  0.018063  0.380435    1.104905  0.004645  0.209981   \n",
              "40848  ...  0.910721  1.381843  0.415153    4.168933  0.003189  0.525816   \n",
              "51793  ...  0.152621  0.226221  0.540500    2.839951  0.002170  0.017644   \n",
              "21466  ...  0.517726  0.743853  0.435185    3.350601  0.003967  0.242263   \n",
              "...    ...       ...       ...       ...         ...       ...       ...   \n",
              "25516  ...  0.247571  0.817857  0.357862    3.414937  0.003389  0.316719   \n",
              "47484  ...  0.182551  0.263291  1.338501    2.799447  0.004340  0.004888   \n",
              "20133  ...  1.222907  3.721420  0.342839    3.440436  0.003787  0.231735   \n",
              "39678  ...  0.234801  0.648415  0.366869    4.081805  0.003389  0.316719   \n",
              "21538  ...  0.719347  0.187912  0.293747    2.627216  0.004632  0.089064   \n",
              "\n",
              "         X18_sd    X26_sd    X50_sd  X3112_sd  \n",
              "24239  1.230538  2.048182  0.031452  2.657072  \n",
              "26870  0.071754  0.003870  0.014029  0.808458  \n",
              "40848  0.354643  0.560645  0.058388  3.775916  \n",
              "51793  0.010979  0.003070  0.001258  1.205834  \n",
              "21466  0.316392  0.243510  0.020678  2.887234  \n",
              "...         ...       ...       ...       ...  \n",
              "25516  1.230538  2.048182  0.031452  2.657072  \n",
              "47484  0.034858  0.024770  0.150192  2.293097  \n",
              "20133  0.255957  2.906730  0.014705  2.113903  \n",
              "39678  1.230538  2.048182  0.031452  2.657072  \n",
              "21538  0.201469  0.028375  0.011706  1.851718  \n",
              "\n",
              "[44391 rows x 176 columns]"
            ],
            "text/html": [
              "\n",
              "  <div id=\"df-471cb416-d1ec-43f1-a4ab-dfe5198cac40\" class=\"colab-df-container\">\n",
              "    <div>\n",
              "<style scoped>\n",
              "    .dataframe tbody tr th:only-of-type {\n",
              "        vertical-align: middle;\n",
              "    }\n",
              "\n",
              "    .dataframe tbody tr th {\n",
              "        vertical-align: top;\n",
              "    }\n",
              "\n",
              "    .dataframe thead th {\n",
              "        text-align: right;\n",
              "    }\n",
              "</style>\n",
              "<table border=\"1\" class=\"dataframe\">\n",
              "  <thead>\n",
              "    <tr style=\"text-align: right;\">\n",
              "      <th></th>\n",
              "      <th>id</th>\n",
              "      <th>WORLDCLIM_BIO1_annual_mean_temperature</th>\n",
              "      <th>WORLDCLIM_BIO12_annual_precipitation</th>\n",
              "      <th>WORLDCLIM_BIO13.BIO14_delta_precipitation_of_wettest_and_dryest_month</th>\n",
              "      <th>WORLDCLIM_BIO15_precipitation_seasonality</th>\n",
              "      <th>WORLDCLIM_BIO4_temperature_seasonality</th>\n",
              "      <th>WORLDCLIM_BIO7_temperature_annual_range</th>\n",
              "      <th>SOIL_bdod_0.5cm_mean_0.01_deg</th>\n",
              "      <th>SOIL_bdod_100.200cm_mean_0.01_deg</th>\n",
              "      <th>SOIL_bdod_15.30cm_mean_0.01_deg</th>\n",
              "      <th>...</th>\n",
              "      <th>X18_mean</th>\n",
              "      <th>X26_mean</th>\n",
              "      <th>X50_mean</th>\n",
              "      <th>X3112_mean</th>\n",
              "      <th>X4_sd</th>\n",
              "      <th>X11_sd</th>\n",
              "      <th>X18_sd</th>\n",
              "      <th>X26_sd</th>\n",
              "      <th>X50_sd</th>\n",
              "      <th>X3112_sd</th>\n",
              "    </tr>\n",
              "  </thead>\n",
              "  <tbody>\n",
              "    <tr>\n",
              "      <th>24239</th>\n",
              "      <td>171376117</td>\n",
              "      <td>15.120000</td>\n",
              "      <td>1123.524414</td>\n",
              "      <td>179.373337</td>\n",
              "      <td>75.942123</td>\n",
              "      <td>307.151367</td>\n",
              "      <td>19.777777</td>\n",
              "      <td>117</td>\n",
              "      <td>132</td>\n",
              "      <td>124</td>\n",
              "      <td>...</td>\n",
              "      <td>0.150808</td>\n",
              "      <td>0.460390</td>\n",
              "      <td>0.365825</td>\n",
              "      <td>3.030315</td>\n",
              "      <td>0.003389</td>\n",
              "      <td>0.316719</td>\n",
              "      <td>1.230538</td>\n",
              "      <td>2.048182</td>\n",
              "      <td>0.031452</td>\n",
              "      <td>2.657072</td>\n",
              "    </tr>\n",
              "    <tr>\n",
              "      <th>26870</th>\n",
              "      <td>196019212</td>\n",
              "      <td>13.562074</td>\n",
              "      <td>1100.364502</td>\n",
              "      <td>180.542221</td>\n",
              "      <td>73.934456</td>\n",
              "      <td>289.352539</td>\n",
              "      <td>19.765333</td>\n",
              "      <td>120</td>\n",
              "      <td>129</td>\n",
              "      <td>122</td>\n",
              "      <td>...</td>\n",
              "      <td>0.110277</td>\n",
              "      <td>0.018063</td>\n",
              "      <td>0.380435</td>\n",
              "      <td>1.104905</td>\n",
              "      <td>0.004645</td>\n",
              "      <td>0.209981</td>\n",
              "      <td>0.071754</td>\n",
              "      <td>0.003870</td>\n",
              "      <td>0.014029</td>\n",
              "      <td>0.808458</td>\n",
              "    </tr>\n",
              "    <tr>\n",
              "      <th>40848</th>\n",
              "      <td>173458431</td>\n",
              "      <td>26.131250</td>\n",
              "      <td>3183.500000</td>\n",
              "      <td>528.928589</td>\n",
              "      <td>65.707703</td>\n",
              "      <td>76.344696</td>\n",
              "      <td>12.764285</td>\n",
              "      <td>95</td>\n",
              "      <td>99</td>\n",
              "      <td>98</td>\n",
              "      <td>...</td>\n",
              "      <td>0.910721</td>\n",
              "      <td>1.381843</td>\n",
              "      <td>0.415153</td>\n",
              "      <td>4.168933</td>\n",
              "      <td>0.003189</td>\n",
              "      <td>0.525816</td>\n",
              "      <td>0.354643</td>\n",
              "      <td>0.560645</td>\n",
              "      <td>0.058388</td>\n",
              "      <td>3.775916</td>\n",
              "    </tr>\n",
              "    <tr>\n",
              "      <th>51793</th>\n",
              "      <td>176675400</td>\n",
              "      <td>2.116071</td>\n",
              "      <td>887.904785</td>\n",
              "      <td>151.476196</td>\n",
              "      <td>68.991066</td>\n",
              "      <td>99.114906</td>\n",
              "      <td>16.292856</td>\n",
              "      <td>112</td>\n",
              "      <td>126</td>\n",
              "      <td>120</td>\n",
              "      <td>...</td>\n",
              "      <td>0.152621</td>\n",
              "      <td>0.226221</td>\n",
              "      <td>0.540500</td>\n",
              "      <td>2.839951</td>\n",
              "      <td>0.002170</td>\n",
              "      <td>0.017644</td>\n",
              "      <td>0.010979</td>\n",
              "      <td>0.003070</td>\n",
              "      <td>0.001258</td>\n",
              "      <td>1.205834</td>\n",
              "    </tr>\n",
              "    <tr>\n",
              "      <th>21466</th>\n",
              "      <td>74535495</td>\n",
              "      <td>21.885370</td>\n",
              "      <td>331.084442</td>\n",
              "      <td>64.617775</td>\n",
              "      <td>90.718796</td>\n",
              "      <td>418.202576</td>\n",
              "      <td>25.793777</td>\n",
              "      <td>153</td>\n",
              "      <td>153</td>\n",
              "      <td>153</td>\n",
              "      <td>...</td>\n",
              "      <td>0.517726</td>\n",
              "      <td>0.743853</td>\n",
              "      <td>0.435185</td>\n",
              "      <td>3.350601</td>\n",
              "      <td>0.003967</td>\n",
              "      <td>0.242263</td>\n",
              "      <td>0.316392</td>\n",
              "      <td>0.243510</td>\n",
              "      <td>0.020678</td>\n",
              "      <td>2.887234</td>\n",
              "    </tr>\n",
              "    <tr>\n",
              "      <th>...</th>\n",
              "      <td>...</td>\n",
              "      <td>...</td>\n",
              "      <td>...</td>\n",
              "      <td>...</td>\n",
              "      <td>...</td>\n",
              "      <td>...</td>\n",
              "      <td>...</td>\n",
              "      <td>...</td>\n",
              "      <td>...</td>\n",
              "      <td>...</td>\n",
              "      <td>...</td>\n",
              "      <td>...</td>\n",
              "      <td>...</td>\n",
              "      <td>...</td>\n",
              "      <td>...</td>\n",
              "      <td>...</td>\n",
              "      <td>...</td>\n",
              "      <td>...</td>\n",
              "      <td>...</td>\n",
              "      <td>...</td>\n",
              "      <td>...</td>\n",
              "    </tr>\n",
              "    <tr>\n",
              "      <th>25516</th>\n",
              "      <td>188291299</td>\n",
              "      <td>12.671389</td>\n",
              "      <td>816.938110</td>\n",
              "      <td>141.033340</td>\n",
              "      <td>72.865730</td>\n",
              "      <td>190.145630</td>\n",
              "      <td>20.977144</td>\n",
              "      <td>114</td>\n",
              "      <td>125</td>\n",
              "      <td>124</td>\n",
              "      <td>...</td>\n",
              "      <td>0.247571</td>\n",
              "      <td>0.817857</td>\n",
              "      <td>0.357862</td>\n",
              "      <td>3.414937</td>\n",
              "      <td>0.003389</td>\n",
              "      <td>0.316719</td>\n",
              "      <td>1.230538</td>\n",
              "      <td>2.048182</td>\n",
              "      <td>0.031452</td>\n",
              "      <td>2.657072</td>\n",
              "    </tr>\n",
              "    <tr>\n",
              "      <th>47484</th>\n",
              "      <td>141070257</td>\n",
              "      <td>19.723888</td>\n",
              "      <td>114.900002</td>\n",
              "      <td>34.566666</td>\n",
              "      <td>114.762772</td>\n",
              "      <td>240.889420</td>\n",
              "      <td>20.880001</td>\n",
              "      <td>140</td>\n",
              "      <td>143</td>\n",
              "      <td>141</td>\n",
              "      <td>...</td>\n",
              "      <td>0.182551</td>\n",
              "      <td>0.263291</td>\n",
              "      <td>1.338501</td>\n",
              "      <td>2.799447</td>\n",
              "      <td>0.004340</td>\n",
              "      <td>0.004888</td>\n",
              "      <td>0.034858</td>\n",
              "      <td>0.024770</td>\n",
              "      <td>0.150192</td>\n",
              "      <td>2.293097</td>\n",
              "    </tr>\n",
              "    <tr>\n",
              "      <th>20133</th>\n",
              "      <td>195683798</td>\n",
              "      <td>10.255437</td>\n",
              "      <td>1059.966675</td>\n",
              "      <td>45.538094</td>\n",
              "      <td>16.683119</td>\n",
              "      <td>899.692749</td>\n",
              "      <td>36.213810</td>\n",
              "      <td>138</td>\n",
              "      <td>166</td>\n",
              "      <td>151</td>\n",
              "      <td>...</td>\n",
              "      <td>1.222907</td>\n",
              "      <td>3.721420</td>\n",
              "      <td>0.342839</td>\n",
              "      <td>3.440436</td>\n",
              "      <td>0.003787</td>\n",
              "      <td>0.231735</td>\n",
              "      <td>0.255957</td>\n",
              "      <td>2.906730</td>\n",
              "      <td>0.014705</td>\n",
              "      <td>2.113903</td>\n",
              "    </tr>\n",
              "    <tr>\n",
              "      <th>39678</th>\n",
              "      <td>194874328</td>\n",
              "      <td>19.927977</td>\n",
              "      <td>3078.928467</td>\n",
              "      <td>269.892853</td>\n",
              "      <td>38.449482</td>\n",
              "      <td>467.681274</td>\n",
              "      <td>18.314285</td>\n",
              "      <td>109</td>\n",
              "      <td>135</td>\n",
              "      <td>117</td>\n",
              "      <td>...</td>\n",
              "      <td>0.234801</td>\n",
              "      <td>0.648415</td>\n",
              "      <td>0.366869</td>\n",
              "      <td>4.081805</td>\n",
              "      <td>0.003389</td>\n",
              "      <td>0.316719</td>\n",
              "      <td>1.230538</td>\n",
              "      <td>2.048182</td>\n",
              "      <td>0.031452</td>\n",
              "      <td>2.657072</td>\n",
              "    </tr>\n",
              "    <tr>\n",
              "      <th>21538</th>\n",
              "      <td>170649825</td>\n",
              "      <td>15.096488</td>\n",
              "      <td>1196.038086</td>\n",
              "      <td>191.138092</td>\n",
              "      <td>75.633522</td>\n",
              "      <td>275.434082</td>\n",
              "      <td>17.333809</td>\n",
              "      <td>108</td>\n",
              "      <td>125</td>\n",
              "      <td>116</td>\n",
              "      <td>...</td>\n",
              "      <td>0.719347</td>\n",
              "      <td>0.187912</td>\n",
              "      <td>0.293747</td>\n",
              "      <td>2.627216</td>\n",
              "      <td>0.004632</td>\n",
              "      <td>0.089064</td>\n",
              "      <td>0.201469</td>\n",
              "      <td>0.028375</td>\n",
              "      <td>0.011706</td>\n",
              "      <td>1.851718</td>\n",
              "    </tr>\n",
              "  </tbody>\n",
              "</table>\n",
              "<p>44391 rows × 176 columns</p>\n",
              "</div>\n",
              "    <div class=\"colab-df-buttons\">\n",
              "\n",
              "  <div class=\"colab-df-container\">\n",
              "    <button class=\"colab-df-convert\" onclick=\"convertToInteractive('df-471cb416-d1ec-43f1-a4ab-dfe5198cac40')\"\n",
              "            title=\"Convert this dataframe to an interactive table.\"\n",
              "            style=\"display:none;\">\n",
              "\n",
              "  <svg xmlns=\"http://www.w3.org/2000/svg\" height=\"24px\" viewBox=\"0 -960 960 960\">\n",
              "    <path d=\"M120-120v-720h720v720H120Zm60-500h600v-160H180v160Zm220 220h160v-160H400v160Zm0 220h160v-160H400v160ZM180-400h160v-160H180v160Zm440 0h160v-160H620v160ZM180-180h160v-160H180v160Zm440 0h160v-160H620v160Z\"/>\n",
              "  </svg>\n",
              "    </button>\n",
              "\n",
              "  <style>\n",
              "    .colab-df-container {\n",
              "      display:flex;\n",
              "      gap: 12px;\n",
              "    }\n",
              "\n",
              "    .colab-df-convert {\n",
              "      background-color: #E8F0FE;\n",
              "      border: none;\n",
              "      border-radius: 50%;\n",
              "      cursor: pointer;\n",
              "      display: none;\n",
              "      fill: #1967D2;\n",
              "      height: 32px;\n",
              "      padding: 0 0 0 0;\n",
              "      width: 32px;\n",
              "    }\n",
              "\n",
              "    .colab-df-convert:hover {\n",
              "      background-color: #E2EBFA;\n",
              "      box-shadow: 0px 1px 2px rgba(60, 64, 67, 0.3), 0px 1px 3px 1px rgba(60, 64, 67, 0.15);\n",
              "      fill: #174EA6;\n",
              "    }\n",
              "\n",
              "    .colab-df-buttons div {\n",
              "      margin-bottom: 4px;\n",
              "    }\n",
              "\n",
              "    [theme=dark] .colab-df-convert {\n",
              "      background-color: #3B4455;\n",
              "      fill: #D2E3FC;\n",
              "    }\n",
              "\n",
              "    [theme=dark] .colab-df-convert:hover {\n",
              "      background-color: #434B5C;\n",
              "      box-shadow: 0px 1px 3px 1px rgba(0, 0, 0, 0.15);\n",
              "      filter: drop-shadow(0px 1px 2px rgba(0, 0, 0, 0.3));\n",
              "      fill: #FFFFFF;\n",
              "    }\n",
              "  </style>\n",
              "\n",
              "    <script>\n",
              "      const buttonEl =\n",
              "        document.querySelector('#df-471cb416-d1ec-43f1-a4ab-dfe5198cac40 button.colab-df-convert');\n",
              "      buttonEl.style.display =\n",
              "        google.colab.kernel.accessAllowed ? 'block' : 'none';\n",
              "\n",
              "      async function convertToInteractive(key) {\n",
              "        const element = document.querySelector('#df-471cb416-d1ec-43f1-a4ab-dfe5198cac40');\n",
              "        const dataTable =\n",
              "          await google.colab.kernel.invokeFunction('convertToInteractive',\n",
              "                                                    [key], {});\n",
              "        if (!dataTable) return;\n",
              "\n",
              "        const docLinkHtml = 'Like what you see? Visit the ' +\n",
              "          '<a target=\"_blank\" href=https://colab.research.google.com/notebooks/data_table.ipynb>data table notebook</a>'\n",
              "          + ' to learn more about interactive tables.';\n",
              "        element.innerHTML = '';\n",
              "        dataTable['output_type'] = 'display_data';\n",
              "        await google.colab.output.renderOutput(dataTable, element);\n",
              "        const docLink = document.createElement('div');\n",
              "        docLink.innerHTML = docLinkHtml;\n",
              "        element.appendChild(docLink);\n",
              "      }\n",
              "    </script>\n",
              "  </div>\n",
              "\n",
              "\n",
              "<div id=\"df-59cb8cfe-3fc7-4997-ba9a-f2d1435335c0\">\n",
              "  <button class=\"colab-df-quickchart\" onclick=\"quickchart('df-59cb8cfe-3fc7-4997-ba9a-f2d1435335c0')\"\n",
              "            title=\"Suggest charts\"\n",
              "            style=\"display:none;\">\n",
              "\n",
              "<svg xmlns=\"http://www.w3.org/2000/svg\" height=\"24px\"viewBox=\"0 0 24 24\"\n",
              "     width=\"24px\">\n",
              "    <g>\n",
              "        <path d=\"M19 3H5c-1.1 0-2 .9-2 2v14c0 1.1.9 2 2 2h14c1.1 0 2-.9 2-2V5c0-1.1-.9-2-2-2zM9 17H7v-7h2v7zm4 0h-2V7h2v10zm4 0h-2v-4h2v4z\"/>\n",
              "    </g>\n",
              "</svg>\n",
              "  </button>\n",
              "\n",
              "<style>\n",
              "  .colab-df-quickchart {\n",
              "      --bg-color: #E8F0FE;\n",
              "      --fill-color: #1967D2;\n",
              "      --hover-bg-color: #E2EBFA;\n",
              "      --hover-fill-color: #174EA6;\n",
              "      --disabled-fill-color: #AAA;\n",
              "      --disabled-bg-color: #DDD;\n",
              "  }\n",
              "\n",
              "  [theme=dark] .colab-df-quickchart {\n",
              "      --bg-color: #3B4455;\n",
              "      --fill-color: #D2E3FC;\n",
              "      --hover-bg-color: #434B5C;\n",
              "      --hover-fill-color: #FFFFFF;\n",
              "      --disabled-bg-color: #3B4455;\n",
              "      --disabled-fill-color: #666;\n",
              "  }\n",
              "\n",
              "  .colab-df-quickchart {\n",
              "    background-color: var(--bg-color);\n",
              "    border: none;\n",
              "    border-radius: 50%;\n",
              "    cursor: pointer;\n",
              "    display: none;\n",
              "    fill: var(--fill-color);\n",
              "    height: 32px;\n",
              "    padding: 0;\n",
              "    width: 32px;\n",
              "  }\n",
              "\n",
              "  .colab-df-quickchart:hover {\n",
              "    background-color: var(--hover-bg-color);\n",
              "    box-shadow: 0 1px 2px rgba(60, 64, 67, 0.3), 0 1px 3px 1px rgba(60, 64, 67, 0.15);\n",
              "    fill: var(--button-hover-fill-color);\n",
              "  }\n",
              "\n",
              "  .colab-df-quickchart-complete:disabled,\n",
              "  .colab-df-quickchart-complete:disabled:hover {\n",
              "    background-color: var(--disabled-bg-color);\n",
              "    fill: var(--disabled-fill-color);\n",
              "    box-shadow: none;\n",
              "  }\n",
              "\n",
              "  .colab-df-spinner {\n",
              "    border: 2px solid var(--fill-color);\n",
              "    border-color: transparent;\n",
              "    border-bottom-color: var(--fill-color);\n",
              "    animation:\n",
              "      spin 1s steps(1) infinite;\n",
              "  }\n",
              "\n",
              "  @keyframes spin {\n",
              "    0% {\n",
              "      border-color: transparent;\n",
              "      border-bottom-color: var(--fill-color);\n",
              "      border-left-color: var(--fill-color);\n",
              "    }\n",
              "    20% {\n",
              "      border-color: transparent;\n",
              "      border-left-color: var(--fill-color);\n",
              "      border-top-color: var(--fill-color);\n",
              "    }\n",
              "    30% {\n",
              "      border-color: transparent;\n",
              "      border-left-color: var(--fill-color);\n",
              "      border-top-color: var(--fill-color);\n",
              "      border-right-color: var(--fill-color);\n",
              "    }\n",
              "    40% {\n",
              "      border-color: transparent;\n",
              "      border-right-color: var(--fill-color);\n",
              "      border-top-color: var(--fill-color);\n",
              "    }\n",
              "    60% {\n",
              "      border-color: transparent;\n",
              "      border-right-color: var(--fill-color);\n",
              "    }\n",
              "    80% {\n",
              "      border-color: transparent;\n",
              "      border-right-color: var(--fill-color);\n",
              "      border-bottom-color: var(--fill-color);\n",
              "    }\n",
              "    90% {\n",
              "      border-color: transparent;\n",
              "      border-bottom-color: var(--fill-color);\n",
              "    }\n",
              "  }\n",
              "</style>\n",
              "\n",
              "  <script>\n",
              "    async function quickchart(key) {\n",
              "      const quickchartButtonEl =\n",
              "        document.querySelector('#' + key + ' button');\n",
              "      quickchartButtonEl.disabled = true;  // To prevent multiple clicks.\n",
              "      quickchartButtonEl.classList.add('colab-df-spinner');\n",
              "      try {\n",
              "        const charts = await google.colab.kernel.invokeFunction(\n",
              "            'suggestCharts', [key], {});\n",
              "      } catch (error) {\n",
              "        console.error('Error during call to suggestCharts:', error);\n",
              "      }\n",
              "      quickchartButtonEl.classList.remove('colab-df-spinner');\n",
              "      quickchartButtonEl.classList.add('colab-df-quickchart-complete');\n",
              "    }\n",
              "    (() => {\n",
              "      let quickchartButtonEl =\n",
              "        document.querySelector('#df-59cb8cfe-3fc7-4997-ba9a-f2d1435335c0 button');\n",
              "      quickchartButtonEl.style.display =\n",
              "        google.colab.kernel.accessAllowed ? 'block' : 'none';\n",
              "    })();\n",
              "  </script>\n",
              "</div>\n",
              "    </div>\n",
              "  </div>\n"
            ],
            "application/vnd.google.colaboratory.intrinsic+json": {
              "type": "dataframe",
              "variable_name": "train_df"
            }
          },
          "metadata": {},
          "execution_count": 22
        }
      ],
      "source": [
        "train_df"
      ]
    },
    {
      "cell_type": "markdown",
      "source": [
        "# Feature engineering"
      ],
      "metadata": {
        "id": "1M75z6jy5aD-"
      }
    },
    {
      "cell_type": "code",
      "source": [
        "worldclim = train_df.columns[1:7]\n",
        "soil = train_df.columns[7:68]\n",
        "modis = train_df.columns[68:128]\n",
        "vod = train_df.columns[128:164]"
      ],
      "metadata": {
        "id": "S5EHKSsq5cN1"
      },
      "execution_count": 36,
      "outputs": []
    },
    {
      "cell_type": "code",
      "source": [
        "targets = ['X4_mean', 'X11_mean', 'X18_mean', 'X26_mean', 'X50_mean','X3112_mean', 'X4_sd',\n",
        " 'X11_sd',\n",
        " 'X18_sd',\n",
        " 'X26_sd',\n",
        " 'X50_sd',\n",
        " 'X3112_sd']"
      ],
      "metadata": {
        "id": "9JbOauza8ZrL"
      },
      "execution_count": 37,
      "outputs": []
    },
    {
      "cell_type": "code",
      "source": [
        "feature_cols = [col for col in train_df.columns if col not in targets]\n",
        "features = train_df[feature_cols]"
      ],
      "metadata": {
        "id": "SbTfX5ri8Eiu"
      },
      "execution_count": 38,
      "outputs": []
    },
    {
      "cell_type": "code",
      "source": [
        "targets = ['X4_mean', 'X11_mean', 'X18_mean', 'X26_mean', 'X50_mean','X3112_mean']"
      ],
      "metadata": {
        "id": "ka2wcCkRPCu9"
      },
      "execution_count": 46,
      "outputs": []
    },
    {
      "cell_type": "code",
      "source": [
        "imputer = SimpleImputer(strategy='median')\n",
        "\n",
        "features_imputed = imputer.fit_transform(features)\n",
        "features_imputed = pd.DataFrame(features_imputed, columns=features.columns)"
      ],
      "metadata": {
        "id": "4V9hwKol8CRs"
      },
      "execution_count": 39,
      "outputs": []
    },
    {
      "cell_type": "code",
      "source": [
        "scaler = StandardScaler()\n",
        "\n",
        "features_scaled = scaler.fit_transform(features_imputed)\n",
        "features_scaled = pd.DataFrame(features_scaled, columns=features.columns)"
      ],
      "metadata": {
        "id": "uqUFES_y8-Xc"
      },
      "execution_count": 40,
      "outputs": []
    },
    {
      "cell_type": "code",
      "source": [
        "y_multi = train_df[targets]\n",
        "X_train_multi, X_test_multi, y_train_multi, y_test_multi = train_test_split(\n",
        "    features_scaled[feature_cols], y_multi, test_size=0.2, random_state=42)\n",
        "\n",
        "multi_xgb_model = MultiOutputRegressor(xgb.XGBRegressor(objective='reg:squarederror', n_estimators=100, random_state=42))\n",
        "\n",
        "multi_xgb_model.fit(X_train_multi, y_train_multi)\n",
        "\n",
        "y_pred_multi = multi_xgb_model.predict(X_test_multi)\n",
        "\n",
        "r2_scores = r2_score(y_test_multi, y_pred_multi, multioutput='raw_values')\n",
        "print(\"R² scores for each target (on scaled features):\", r2_scores)"
      ],
      "metadata": {
        "colab": {
          "base_uri": "https://localhost:8080/"
        },
        "id": "RngHlUunMY0_",
        "outputId": "862c3dc7-c1c8-4efc-9fac-edb54b6c5bef"
      },
      "execution_count": 47,
      "outputs": [
        {
          "output_type": "stream",
          "name": "stdout",
          "text": [
            "R² scores for each target (on scaled features): [ 0.06519863  0.16375705  0.3071952   0.23258292 -0.24942554  0.25492991]\n"
          ]
        }
      ]
    },
    {
      "cell_type": "markdown",
      "source": [
        "## Dimension reduction based on importance"
      ],
      "metadata": {
        "id": "sFPw8eSvOPwy"
      }
    },
    {
      "cell_type": "code",
      "source": [
        "X_train_full, X_test_full, y_train_full, y_test_full = train_test_split(features_scaled, train_df[targets], test_size=0.2, random_state=42)\n",
        "\n",
        "xgb_model_full = xgb.XGBRegressor(objective='reg:squarederror', n_estimators=100, random_state=42)\n",
        "xgb_model_full.fit(X_train_full, y_train_full)\n",
        "\n",
        "importances = xgb_model_full.feature_importances_\n",
        "\n",
        "feature_names = features_scaled.columns\n",
        "importance_df = pd.DataFrame({'Feature': feature_names, 'Importance': importances})\n",
        "importance_df = importance_df.sort_values(by='Importance', ascending=False).reset_index(drop=True)\n",
        "print(importance_df.head(20))"
      ],
      "metadata": {
        "colab": {
          "base_uri": "https://localhost:8080/"
        },
        "id": "zIjOGKZYLnSq",
        "outputId": "f3ed2f7b-828b-4c3f-b38e-22530870eafa"
      },
      "execution_count": 48,
      "outputs": [
        {
          "output_type": "stream",
          "name": "stdout",
          "text": [
            "                                              Feature  Importance\n",
            "0              WORLDCLIM_BIO1_annual_mean_temperature    0.053923\n",
            "1             WORLDCLIM_BIO7_temperature_annual_range    0.032605\n",
            "2              WORLDCLIM_BIO4_temperature_seasonality    0.019557\n",
            "3   MODIS_2000.2020_monthly_mean_surface_reflectan...    0.015389\n",
            "4                     SOIL_ocd_60.100cm_mean_0.01_deg    0.010839\n",
            "5   MODIS_2000.2020_monthly_mean_surface_reflectan...    0.009633\n",
            "6                    SOIL_sand_60.100cm_mean_0.01_deg    0.009385\n",
            "7                WORLDCLIM_BIO12_annual_precipitation    0.008858\n",
            "8   WORLDCLIM_BIO13.BIO14_delta_precipitation_of_w...    0.008784\n",
            "9   MODIS_2000.2020_monthly_mean_surface_reflectan...    0.008703\n",
            "10                   SOIL_phh2o_30.60cm_mean_0.01_deg    0.008532\n",
            "11                VOD_Ku_1987_2017_multiyear_mean_m08    0.008341\n",
            "12                    SOIL_silt_30.60cm_mean_0.01_deg    0.008260\n",
            "13                 VOD_X_1997_2018_multiyear_mean_m10    0.008218\n",
            "14                      SOIL_silt_0.5cm_mean_0.01_deg    0.008088\n",
            "15  MODIS_2000.2020_monthly_mean_surface_reflectan...    0.008081\n",
            "16  MODIS_2000.2020_monthly_mean_surface_reflectan...    0.007971\n",
            "17  MODIS_2000.2020_monthly_mean_surface_reflectan...    0.007641\n",
            "18  MODIS_2000.2020_monthly_mean_surface_reflectan...    0.007487\n",
            "19  MODIS_2000.2020_monthly_mean_surface_reflectan...    0.007280\n"
          ]
        }
      ]
    },
    {
      "cell_type": "code",
      "source": [
        "top_features = importance_df['Feature'].head(30).tolist()\n",
        "y_multi = train_df[targets]\n",
        "X_train_multi, X_test_multi, y_train_multi, y_test_multi = train_test_split(\n",
        "    features_scaled[top_features], y_multi, test_size=0.2, random_state=42)\n",
        "\n",
        "multi_xgb_model = MultiOutputRegressor(xgb.XGBRegressor(objective='reg:squarederror', n_estimators=100, random_state=42))\n",
        "\n",
        "multi_xgb_model.fit(X_train_multi, y_train_multi)\n",
        "\n",
        "y_pred_multi = multi_xgb_model.predict(X_test_multi)\n",
        "\n",
        "r2_scores = r2_score(y_test_multi, y_pred_multi, multioutput='raw_values')\n",
        "print(\"R² scores for each target (with the top 30 important features):\", r2_scores)"
      ],
      "metadata": {
        "colab": {
          "base_uri": "https://localhost:8080/"
        },
        "id": "VTRsG4fCMOAh",
        "outputId": "ba0b9687-8728-46c6-c3ff-23d57460ee24"
      },
      "execution_count": 49,
      "outputs": [
        {
          "output_type": "stream",
          "name": "stdout",
          "text": [
            "R² scores for each target (with the top 30 important features): [ 0.093593    0.15704444  0.303049    0.228631   -0.18055592  0.24359068]\n"
          ]
        }
      ]
    },
    {
      "cell_type": "markdown",
      "source": [
        "R² scores for each target (on scaled features): [ 0.06519863,  0.16375705,  0.3071952,   0.23258292, -0.24942554,  0.25492991]\n",
        "\n",
        "R² scores for each target (with the top 30 important features): [ 0.093593,    0.15704444,  0.303049,    0.228631,   -0.18055592,  0.24359068]"
      ],
      "metadata": {
        "id": "G1jo_FTSRAFK"
      }
    },
    {
      "cell_type": "markdown",
      "source": [
        "# Dimension reduction with PCA"
      ],
      "metadata": {
        "id": "9M9n883nOxYX"
      }
    },
    {
      "cell_type": "code",
      "source": [
        "pca = PCA(n_components=min(features_scaled.shape))\n",
        "\n",
        "pca.fit(features_scaled)\n",
        "\n",
        "cumulative_variance_ratio = np.cumsum(pca.explained_variance_ratio_)"
      ],
      "metadata": {
        "id": "v5k-eIL99I9v"
      },
      "execution_count": 50,
      "outputs": []
    },
    {
      "cell_type": "code",
      "source": [
        "n_components_95 = np.where(cumulative_variance_ratio >= 0.95)[0][0] + 1\n",
        "\n",
        "pca_95 = PCA(n_components=n_components_95)\n",
        "\n",
        "features_pca_95 = pca_95.fit_transform(features_scaled)\n",
        "\n",
        "features_pca_95_df = pd.DataFrame(features_pca_95, columns=[f'PC{i+1}' for i in range(n_components_95)])\n",
        "features_pca_95_df.head(), n_components_95"
      ],
      "metadata": {
        "colab": {
          "base_uri": "https://localhost:8080/"
        },
        "id": "0UllVsGV-C8J",
        "outputId": "b29fd04d-5add-4f3f-e1aa-f13b05a498d4"
      },
      "execution_count": 51,
      "outputs": [
        {
          "output_type": "execute_result",
          "data": {
            "text/plain": [
              "(        PC1       PC2       PC3       PC4       PC5       PC6       PC7  \\\n",
              " 0  1.752592 -4.705826 -1.658646 -0.237254  0.793511 -2.338007 -1.751561   \n",
              " 1  2.015580 -2.177639 -2.931064  0.877646  2.630513 -0.920006 -1.026357   \n",
              " 2  6.143819 -6.758618  4.730867  0.514096 -1.498595  0.882158 -4.123164   \n",
              " 3  2.972285  1.678727  2.701243 -2.987341 -0.353421  4.852251 -1.072083   \n",
              " 4 -7.082553 -2.660474 -5.109291 -4.465095  1.849223 -1.732129 -0.115992   \n",
              " \n",
              "         PC8       PC9      PC10      PC11      PC12      PC13      PC14  \\\n",
              " 0  2.650341  0.879054  0.370322 -1.133138 -0.110596 -0.455378  0.193836   \n",
              " 1  0.542654  1.081605 -0.052364 -0.253646 -0.305663 -1.651285  0.337962   \n",
              " 2  5.063336 -0.348512  3.381313 -1.122087  1.348846  0.416042 -2.509848   \n",
              " 3 -0.430468 -3.790803  1.163000 -1.283125 -0.621630 -0.566913  0.409377   \n",
              " 4 -0.483845  1.874738  0.996085 -0.396926 -0.226993 -0.830693  1.196308   \n",
              " \n",
              "        PC15      PC16      PC17      PC18      PC19  \n",
              " 0 -1.147980 -0.223689 -0.908629 -0.747643  0.479230  \n",
              " 1 -1.599873  0.462007 -1.844627 -1.314165  1.117947  \n",
              " 2  1.416598  0.215829  0.991940  0.527458  0.864390  \n",
              " 3 -1.063651 -1.035450 -0.403366  0.301258 -0.794570  \n",
              " 4 -0.548745  1.509721  0.034330 -0.967627 -1.253311  ,\n",
              " 19)"
            ]
          },
          "metadata": {},
          "execution_count": 51
        }
      ]
    },
    {
      "cell_type": "code",
      "source": [
        "X_train_multi, X_test_multi, y_train_multi, y_test_multi = train_test_split(\n",
        "    features_pca_95_df, y_multi, test_size=0.2, random_state=42)\n",
        "\n",
        "multi_xgb_model = MultiOutputRegressor(xgb.XGBRegressor(objective='reg:squarederror', n_estimators=100, random_state=42))\n",
        "\n",
        "multi_xgb_model.fit(X_train_multi, y_train_multi)\n",
        "\n",
        "y_pred_multi = multi_xgb_model.predict(X_test_multi)\n",
        "\n",
        "r2_scores = r2_score(y_test_multi, y_pred_multi, multioutput='raw_values')\n",
        "print(\"R² scores for each target (PCA):\", r2_scores)"
      ],
      "metadata": {
        "colab": {
          "base_uri": "https://localhost:8080/"
        },
        "id": "TG--jxWoPSN5",
        "outputId": "75ac62c5-d79f-464b-d6b0-4582b42b5cbc"
      },
      "execution_count": 54,
      "outputs": [
        {
          "output_type": "stream",
          "name": "stdout",
          "text": [
            "R² scores for each target (PCA): [ 0.0397597   0.15494675  0.28841653  0.21596206 -0.2079703   0.24695846]\n"
          ]
        }
      ]
    },
    {
      "cell_type": "markdown",
      "source": [
        "R² scores for each target (on scaled features): [ 0.06519863, 0.16375705, 0.3071952, 0.23258292, -0.24942554, 0.25492991]\n",
        "\n",
        "R² scores for each target (with the top 30 important features): [ 0.093593, 0.15704444, 0.303049, 0.228631, -0.18055592, 0.24359068]\n",
        "\n",
        "R² scores for each target (PCA): [ 0.0397597,   0.15494675,  0.28841653,  0.21596206, -0.2079703,   0.24695846]"
      ],
      "metadata": {
        "id": "KATrX1M9TPU3"
      }
    },
    {
      "cell_type": "code",
      "source": [
        "X_train_full, X_test_full, y_train_full, y_test_full = train_test_split(features_pca_95_df, train_df[targets], test_size=0.2, random_state=42)\n",
        "\n",
        "xgb_model_full = xgb.XGBRegressor(objective='reg:squarederror', n_estimators=100, random_state=42)\n",
        "xgb_model_full.fit(X_train_full, y_train_full)\n",
        "\n",
        "importances = xgb_model_full.feature_importances_\n",
        "\n",
        "feature_names = features_pca_95_df.columns\n",
        "importance_df_pca = pd.DataFrame({'Feature': feature_names, 'Importance': importances})\n",
        "importance_df_pca = importance_df.sort_values(by='Importance', ascending=False).reset_index(drop=True)\n",
        "print(importance_df_pca.head(20))"
      ],
      "metadata": {
        "colab": {
          "base_uri": "https://localhost:8080/"
        },
        "id": "S36DKbKXSsWs",
        "outputId": "ba67bb8b-fe35-47f3-852e-b042350a4a3b"
      },
      "execution_count": 65,
      "outputs": [
        {
          "output_type": "stream",
          "name": "stdout",
          "text": [
            "                                              Feature  Importance\n",
            "0              WORLDCLIM_BIO1_annual_mean_temperature    0.053923\n",
            "1             WORLDCLIM_BIO7_temperature_annual_range    0.032605\n",
            "2              WORLDCLIM_BIO4_temperature_seasonality    0.019557\n",
            "3   MODIS_2000.2020_monthly_mean_surface_reflectan...    0.015389\n",
            "4                     SOIL_ocd_60.100cm_mean_0.01_deg    0.010839\n",
            "5   MODIS_2000.2020_monthly_mean_surface_reflectan...    0.009633\n",
            "6                    SOIL_sand_60.100cm_mean_0.01_deg    0.009385\n",
            "7                WORLDCLIM_BIO12_annual_precipitation    0.008858\n",
            "8   WORLDCLIM_BIO13.BIO14_delta_precipitation_of_w...    0.008784\n",
            "9   MODIS_2000.2020_monthly_mean_surface_reflectan...    0.008703\n",
            "10                   SOIL_phh2o_30.60cm_mean_0.01_deg    0.008532\n",
            "11                VOD_Ku_1987_2017_multiyear_mean_m08    0.008341\n",
            "12                    SOIL_silt_30.60cm_mean_0.01_deg    0.008260\n",
            "13                 VOD_X_1997_2018_multiyear_mean_m10    0.008218\n",
            "14                      SOIL_silt_0.5cm_mean_0.01_deg    0.008088\n",
            "15  MODIS_2000.2020_monthly_mean_surface_reflectan...    0.008081\n",
            "16  MODIS_2000.2020_monthly_mean_surface_reflectan...    0.007971\n",
            "17  MODIS_2000.2020_monthly_mean_surface_reflectan...    0.007641\n",
            "18  MODIS_2000.2020_monthly_mean_surface_reflectan...    0.007487\n",
            "19  MODIS_2000.2020_monthly_mean_surface_reflectan...    0.007280\n"
          ]
        }
      ]
    },
    {
      "cell_type": "code",
      "source": [
        "top_features = importance_df_pca['Feature'].head(30).tolist()\n",
        "y_multi = train_df[targets]\n",
        "X_train_multi, X_test_multi, y_train_multi, y_test_multi = train_test_split(\n",
        "    features_scaled[top_features], y_multi, test_size=0.2, random_state=42)\n",
        "\n",
        "multi_xgb_model = MultiOutputRegressor(xgb.XGBRegressor(objective='reg:squarederror', n_estimators=100, random_state=42))\n",
        "\n",
        "multi_xgb_model.fit(X_train_multi, y_train_multi)\n",
        "\n",
        "y_pred_multi = multi_xgb_model.predict(X_test_multi)\n",
        "\n",
        "r2_scores = r2_score(y_test_multi, y_pred_multi, multioutput='raw_values')\n",
        "print(\"R² scores for each target (PCA with the top 30 important features):\", r2_scores)"
      ],
      "metadata": {
        "colab": {
          "base_uri": "https://localhost:8080/"
        },
        "id": "UrVQkH27Sv2U",
        "outputId": "f1905af0-9a97-425f-abd9-222dda4c902e"
      },
      "execution_count": 66,
      "outputs": [
        {
          "output_type": "stream",
          "name": "stdout",
          "text": [
            "R² scores for each target (PCA with the top 30 important features): [ 0.093593    0.15704444  0.303049    0.228631   -0.18055592  0.24359068]\n"
          ]
        }
      ]
    },
    {
      "cell_type": "markdown",
      "source": [
        "R² scores for each target (on scaled features): [ 0.06519863, 0.16375705, 0.3071952, 0.23258292, -0.24942554, 0.25492991]\n",
        "\n",
        "R² scores for each target (with the top 30 important features): [ 0.093593, 0.15704444, 0.303049, 0.228631, -0.18055592, 0.24359068]\n",
        "\n",
        "R² scores for each target (PCA): [ 0.0397597, 0.15494675, 0.28841653, 0.21596206, -0.2079703, 0.24695846]\n",
        "\n",
        "R² scores for each target (PCA with the top 30 important features): [ 0.093593,    0.15704444,  0.303049,    0.228631,   -0.18055592,  0.24359068]"
      ],
      "metadata": {
        "id": "pIRorjbtVSuS"
      }
    },
    {
      "cell_type": "code",
      "source": [
        "from sklearn.model_selection import GridSearchCV"
      ],
      "metadata": {
        "id": "1mElHC-iZkOL"
      },
      "execution_count": 74,
      "outputs": []
    },
    {
      "cell_type": "code",
      "source": [
        "top_features = importance_df_pca['Feature'].head(30).tolist()\n",
        "targets = ['X4_mean', 'X11_mean', 'X18_mean', 'X26_mean', 'X50_mean','X3112_mean']\n",
        "y_multi = train_df[targets]\n",
        "X = features_scaled[top_features]\n",
        "\n",
        "X_train_multi, X_test_multi, y_train_multi, y_test_multi = train_test_split(\n",
        "    X, y_multi, test_size=0.2, random_state=42)\n",
        "\n",
        "xgb_base = xgb.XGBRegressor(objective='reg:squarederror', random_state=42)\n",
        "\n",
        "multi_xgb = MultiOutputRegressor(xgb_base)\n",
        "\n",
        "param_grid = {\n",
        "    'estimator__n_estimators': [50, 100, 200],\n",
        "    'estimator__max_depth': [3, 5, 7],\n",
        "    'estimator__learning_rate': [0.01, 0.1, 0.2]\n",
        "}\n",
        "\n",
        "grid_search = GridSearchCV(estimator=multi_xgb, param_grid=param_grid,\n",
        "                           cv=3, n_jobs=-1, verbose=2, scoring='r2')\n",
        "\n",
        "grid_search.fit(X_train_multi, y_train_multi)\n",
        "\n",
        "print(\"Best parameters found: \", grid_search.best_params_)\n",
        "print(\"Best R² score found: \", grid_search.best_score_)"
      ],
      "metadata": {
        "colab": {
          "base_uri": "https://localhost:8080/"
        },
        "id": "8XwTfz63ZFV5",
        "outputId": "95288fa8-d128-4a00-f961-0bbe2ed94ce0"
      },
      "execution_count": 75,
      "outputs": [
        {
          "output_type": "stream",
          "name": "stdout",
          "text": [
            "Fitting 3 folds for each of 27 candidates, totalling 81 fits\n"
          ]
        },
        {
          "output_type": "stream",
          "name": "stderr",
          "text": [
            "/usr/local/lib/python3.10/dist-packages/joblib/externals/loky/backend/fork_exec.py:38: RuntimeWarning: os.fork() was called. os.fork() is incompatible with multithreaded code, and JAX is multithreaded, so this will likely lead to a deadlock.\n",
            "  pid = os.fork()\n"
          ]
        },
        {
          "output_type": "stream",
          "name": "stdout",
          "text": [
            "Best parameters found:  {'estimator__learning_rate': 0.1, 'estimator__max_depth': 5, 'estimator__n_estimators': 100}\n",
            "Best R² score found:  0.1551971370767798\n"
          ]
        }
      ]
    },
    {
      "cell_type": "code",
      "source": [
        "top_features = importance_df_pca['Feature'].head(30).tolist()\n",
        "targets = ['X4_mean', 'X11_mean', 'X18_mean', 'X26_mean', 'X50_mean','X3112_mean']\n",
        "y_multi = train_df[targets]\n",
        "X_train_multi, X_test_multi, y_train_multi, y_test_multi = train_test_split(\n",
        "    features_scaled[top_features], y_multi, test_size=0.2, random_state=42)\n",
        "\n",
        "multi_xgb_model = MultiOutputRegressor(xgb.XGBRegressor(objective='reg:squarederror', n_estimators=100, random_state=42, learning_rate=0.1, max_depth=5))\n",
        "\n",
        "multi_xgb_model.fit(X_train_multi, y_train_multi)\n",
        "\n",
        "y_pred_multi = multi_xgb_model.predict(X_test_multi)\n",
        "\n",
        "r2_scores = r2_score(y_test_multi, y_pred_multi, multioutput='raw_values')\n",
        "print(\"R² scores for each target (PCA with the top 30 important features):\", r2_scores)"
      ],
      "metadata": {
        "colab": {
          "base_uri": "https://localhost:8080/"
        },
        "id": "tNSUUbACfeyn",
        "outputId": "7b7c078b-1299-4a67-fc80-3ffa830af03c"
      },
      "execution_count": 77,
      "outputs": [
        {
          "output_type": "stream",
          "name": "stdout",
          "text": [
            "R² scores for each target (PCA with the top 30 important features): [0.12358511 0.17924043 0.31857293 0.24550138 0.01399558 0.26230538]\n"
          ]
        }
      ]
    },
    {
      "cell_type": "markdown",
      "source": [
        "R² scores for each target (PCA with the top 30 important features optimized): [0.12358511, 0.17924043, 0.31857293, 0.24550138, 0.01399558, 0.26230538]\n",
        "\n",
        " R² scores for each target (PCA with the top 30 important features): [ 0.093593, 0.15704444, 0.303049, 0.228631, -0.18055592, 0.24359068]\n",
        "\n"
      ],
      "metadata": {
        "id": "DpMavkogf98T"
      }
    }
  ]
}